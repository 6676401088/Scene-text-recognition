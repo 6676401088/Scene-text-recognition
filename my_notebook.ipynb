{
 "cells": [
  {
   "cell_type": "code",
   "execution_count": 9,
   "metadata": {
    "collapsed": false,
    "deletable": true,
    "editable": true
   },
   "outputs": [
    {
     "name": "stdout",
     "output_type": "stream",
     "text": [
      "data 1000 done!\n",
      "data 2000 done!\n",
      "data 3000 done!\n",
      "data 4000 done!\n",
      "data 5000 done!\n",
      "data 6000 done!\n",
      "data 7000 done!\n",
      "data 8000 done!\n",
      "data 9000 done!\n",
      "data 10000 done!\n",
      "data 11000 done!\n",
      "data 12000 done!\n",
      "data 13000 done!\n",
      "data 14000 done!\n",
      "data 15000 done!\n",
      "data 16000 done!\n",
      "data 17000 done!\n",
      "data 18000 done!\n",
      "data 19000 done!\n",
      "data 20000 done!\n",
      "data 21000 done!\n",
      "data 22000 done!\n",
      "data 23000 done!\n",
      "data 24000 done!\n",
      "data 25000 done!\n",
      "data 26000 done!\n",
      "data 27000 done!\n",
      "data 28000 done!\n",
      "data 29000 done!\n",
      "data 30000 done!\n",
      "data 31000 done!\n",
      "data 32000 done!\n",
      "data 33000 done!\n",
      "data 34000 done!\n",
      "data 35000 done!\n",
      "data 36000 done!\n",
      "data 37000 done!\n",
      "data 38000 done!\n",
      "data 39000 done!\n",
      "data 40000 done!\n",
      "data 41000 done!\n",
      "data 42000 done!\n"
     ]
    }
   ],
   "source": [
    "out_data = open(\"./er_classifier/training_data_svm.txt\", \"w\")\n",
    "in_data = open(\"./er_classifier/training_data.txt\", \"r\")\n",
    "count = 0\n",
    "for row in in_data:\n",
    "    element = row.split(' ')\n",
    "    out_data.write(element[0])\n",
    "    for i in range(1, 1024):\n",
    "        if element[i] != \"0\":\n",
    "            out_data.write(\" \" + str(i-1) + \":\" + str(int(element[i])/144.0))\n",
    "    out_data.write(\"\\n\")\n",
    "    count += 1\n",
    "    if count % 1000 == 0:\n",
    "        print (\"data \" + str(count) + \" done!\")\n",
    "    \n",
    "    \n",
    "out_data.close()\n",
    "in_data.close()"
   ]
  },
  {
   "cell_type": "markdown",
   "metadata": {
    "deletable": true,
    "editable": true
   },
   "source": [
    "### Download pictures"
   ]
  },
  {
   "cell_type": "code",
   "execution_count": null,
   "metadata": {
    "collapsed": false,
    "deletable": true,
    "editable": true
   },
   "outputs": [],
   "source": [
    "import os, sys\n",
    "import urllib.request\n",
    "import time\n",
    "\n",
    "url_file = open(\"res/url_file.txt\", \"r\")\n",
    "i = 7321\n",
    "\n",
    "for url in url_file:\n",
    "    path = \"res/neg/\"\n",
    "    try:\n",
    "        response = urllib.request.urlopen(url)\n",
    "        filename = path+str(i)+\".jpg\"\n",
    "        with open(filename, 'wb') as f:\n",
    "            f.write(response.read())\n",
    "            if os.path.getsize(filename) < 10240:\n",
    "                os.remove(filename)\n",
    "        \n",
    "        print (str(i) + \" done\")\n",
    "        i += 1\n",
    "    except:\n",
    "        print (str(i) + \" failed\")\n",
    "\n",
    "url_file.close()\n",
    "print(\"All url have been downloaded.\")\n",
    "    "
   ]
  },
  {
   "cell_type": "markdown",
   "metadata": {
    "deletable": true,
    "editable": true
   },
   "source": [
    "### Rename files"
   ]
  },
  {
   "cell_type": "code",
   "execution_count": null,
   "metadata": {
    "collapsed": false,
    "deletable": true,
    "editable": true
   },
   "outputs": [],
   "source": [
    "import os, sys\n",
    "import random\n",
    "import string\n",
    "\n",
    "def rename_folder_file(folder):\n",
    "    s = string.ascii_lowercase+string.digits\n",
    "    random_string = ''.join(random.sample(s,5))\n",
    "    \n",
    "    i = 1\n",
    "    for file in os.listdir(folder):\n",
    "        os.rename(folder+file, folder+random_string+\"_%d.jpg\" % i)\n",
    "        i+=1\n",
    "    print (\"move as temporary files\")\n",
    "    \n",
    "    \n",
    "    i = 1\n",
    "    for file in os.listdir(folder):\n",
    "        os.rename(folder+file, folder+\"%d.jpg\" % i)\n",
    "        i+=1\n",
    "    print (\"move as refined files\")\n",
    "\n",
    "        \n",
    "rename_folder_file(\"res/pos/pos2/\")"
   ]
  },
  {
   "cell_type": "markdown",
   "metadata": {
    "deletable": true,
    "editable": true
   },
   "source": [
    "### Draw Linear Time MSER"
   ]
  },
  {
   "cell_type": "code",
   "execution_count": 5,
   "metadata": {
    "collapsed": false,
    "deletable": true,
    "editable": true
   },
   "outputs": [
    {
     "ename": "FileNotFoundError",
     "evalue": "[Errno 2] No such file or directory: 'time.txt'",
     "output_type": "error",
     "traceback": [
      "\u001b[1;31m---------------------------------------------------------------------------\u001b[0m",
      "\u001b[1;31mFileNotFoundError\u001b[0m                         Traceback (most recent call last)",
      "\u001b[1;32m<ipython-input-5-94a3cb465ed3>\u001b[0m in \u001b[0;36m<module>\u001b[1;34m()\u001b[0m\n\u001b[0;32m      3\u001b[0m \u001b[1;32mimport\u001b[0m \u001b[0mnumpy\u001b[0m \u001b[1;32mas\u001b[0m \u001b[0mnp\u001b[0m\u001b[1;33m\u001b[0m\u001b[0m\n\u001b[0;32m      4\u001b[0m \u001b[1;33m\u001b[0m\u001b[0m\n\u001b[1;32m----> 5\u001b[1;33m \u001b[1;32mwith\u001b[0m \u001b[0mopen\u001b[0m\u001b[1;33m(\u001b[0m\u001b[1;34m\"time.txt\"\u001b[0m\u001b[1;33m,\u001b[0m \u001b[1;34m\"r\"\u001b[0m\u001b[1;33m)\u001b[0m \u001b[1;32mas\u001b[0m \u001b[0mf\u001b[0m\u001b[1;33m:\u001b[0m\u001b[1;33m\u001b[0m\u001b[0m\n\u001b[0m\u001b[0;32m      6\u001b[0m     \u001b[0mrow_list\u001b[0m \u001b[1;33m=\u001b[0m \u001b[1;33m[\u001b[0m\u001b[0mrow\u001b[0m\u001b[1;33m[\u001b[0m\u001b[1;33m:\u001b[0m\u001b[1;33m-\u001b[0m\u001b[1;36m1\u001b[0m\u001b[1;33m]\u001b[0m\u001b[1;33m.\u001b[0m\u001b[0msplit\u001b[0m\u001b[1;33m(\u001b[0m\u001b[1;34m\" \"\u001b[0m\u001b[1;33m)\u001b[0m \u001b[1;32mfor\u001b[0m \u001b[0mrow\u001b[0m \u001b[1;32min\u001b[0m \u001b[0mf\u001b[0m\u001b[1;33m]\u001b[0m\u001b[1;33m\u001b[0m\u001b[0m\n\u001b[0;32m      7\u001b[0m     \u001b[0mplist\u001b[0m \u001b[1;33m=\u001b[0m \u001b[1;33m[\u001b[0m\u001b[0mi\u001b[0m\u001b[1;33m[\u001b[0m\u001b[1;36m0\u001b[0m\u001b[1;33m]\u001b[0m \u001b[1;32mfor\u001b[0m \u001b[0mi\u001b[0m \u001b[1;32min\u001b[0m \u001b[0mrow_list\u001b[0m\u001b[1;33m]\u001b[0m\u001b[1;33m\u001b[0m\u001b[0m\n",
      "\u001b[1;31mFileNotFoundError\u001b[0m: [Errno 2] No such file or directory: 'time.txt'"
     ]
    }
   ],
   "source": [
    "%matplotlib inline\n",
    "from matplotlib import pyplot as plt\n",
    "import numpy as np\n",
    "\n",
    "with open(\"time.txt\", \"r\") as f:\n",
    "    row_list = [row[:-1].split(\" \") for row in f]\n",
    "    plist = [i[0] for i in row_list]\n",
    "    tlist = [i[1] for i in row_list]\n",
    "pixel_count = np.array(plist)\n",
    "time_spent = np.array(tlist)\n",
    "plt.plot(pixel_count, time_spent)\n",
    "plt.xlabel(\"Number of pixels\", color='b')\n",
    "plt.ylabel(\"Miliseconds\", color='b')\n",
    "plt.title(\"Execution time w.r.t. number of pixels\")\n",
    "plt.ticklabel_format(axis='x',style='sci')"
   ]
  },
  {
   "cell_type": "markdown",
   "metadata": {
    "deletable": true,
    "editable": true
   },
   "source": [
    "### Draw Optimal Path"
   ]
  },
  {
   "cell_type": "code",
   "execution_count": 6,
   "metadata": {
    "collapsed": false,
    "deletable": true,
    "editable": true,
    "scrolled": false
   },
   "outputs": [
    {
     "data": {
      "text/plain": [
       "'test-output/round-table.gv.pdf'"
      ]
     },
     "execution_count": 6,
     "metadata": {},
     "output_type": "execute_result"
    }
   ],
   "source": [
    "from graphviz import *\n",
    "\n",
    "def add_nodes(graph, nodes):\n",
    "    for n in nodes:\n",
    "        if isinstance(n, tuple):\n",
    "            graph.node(n[0], **n[1])\n",
    "        else:\n",
    "            graph.node(n)\n",
    "    return graph\n",
    "\n",
    "def add_edges(graph, edges):\n",
    "    for e in edges:\n",
    "        if isinstance(e[0], tuple):\n",
    "            graph.edge(*e[0], **e[1])\n",
    "        else:\n",
    "            graph.edge(*e)\n",
    "    return graph\n",
    "\n",
    "\n",
    "nodes = []\n",
    "with open(\"graph.txt\", \"r\") as file:\n",
    "    for row in file:\n",
    "        node = row.split(' ')[:-1]\n",
    "        nodes.append(node)\n",
    "\n",
    "\n",
    "dot = Digraph(comment='The Round Table')\n",
    "dot.graph_attr['rankdir'] = 'LR'\n",
    "\n",
    "i = 0\n",
    "for node in nodes:\n",
    "    string = node[2] + '\\n\\n\\n' + node[1]\n",
    "    img = \"D:\\%d.png\" % i\n",
    "    i += 1\n",
    "    dot.node(node[0], label=string, fontcolor='blue', image=img)\n",
    "\n",
    "for node in nodes:\n",
    "    edge = node[3:]\n",
    "    for i in range(0, len(edge), 2):\n",
    "        dot.edge(node[0], edge[i], label=edge[i+1])\n",
    "        \n",
    "dot\n",
    "dot.render('test-output/round-table.gv', view=True)"
   ]
  },
  {
   "cell_type": "markdown",
   "metadata": {
    "deletable": true,
    "editable": true
   },
   "source": [
    "### Draw Adaboost"
   ]
  },
  {
   "cell_type": "code",
   "execution_count": 1,
   "metadata": {
    "collapsed": false,
    "deletable": true,
    "editable": true,
    "scrolled": false
   },
   "outputs": [],
   "source": [
    "import numpy as np\n",
    "import matplotlib.pyplot as plt\n",
    "#import sklearn"
   ]
  }
 ],
 "metadata": {
  "kernelspec": {
   "display_name": "Python 3",
   "language": "python",
   "name": "python3"
  },
  "language_info": {
   "codemirror_mode": {
    "name": "ipython",
    "version": 3
   },
   "file_extension": ".py",
   "mimetype": "text/x-python",
   "name": "python",
   "nbconvert_exporter": "python",
   "pygments_lexer": "ipython3",
   "version": "3.5.3"
  }
 },
 "nbformat": 4,
 "nbformat_minor": 2
}
