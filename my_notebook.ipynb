{
 "cells": [
  {
   "cell_type": "markdown",
   "metadata": {},
   "source": [
    "### Download pictures"
   ]
  },
  {
   "cell_type": "code",
   "execution_count": null,
   "metadata": {
    "collapsed": false,
    "deletable": true,
    "editable": true
   },
   "outputs": [],
   "source": [
    "import os, sys\n",
    "import urllib.request\n",
    "import time\n",
    "\n",
    "url_file = open(\"res/url_file.txt\", \"r\")\n",
    "i = 7321\n",
    "\n",
    "for url in url_file:\n",
    "    path = \"res/neg/\"\n",
    "    try:\n",
    "        response = urllib.request.urlopen(url)\n",
    "        filename = path+str(i)+\".jpg\"\n",
    "        with open(filename, 'wb') as f:\n",
    "            f.write(response.read())\n",
    "            if os.path.getsize(filename) < 10240:\n",
    "                os.remove(filename)\n",
    "        \n",
    "        print (str(i) + \" done\")\n",
    "        i += 1\n",
    "    except:\n",
    "        print (str(i) + \" failed\")\n",
    "\n",
    "url_file.close()\n",
    "print(\"All url have been downloaded.\")\n",
    "    "
   ]
  },
  {
   "cell_type": "markdown",
   "metadata": {},
   "source": [
    "### Rename files"
   ]
  },
  {
   "cell_type": "code",
   "execution_count": null,
   "metadata": {
    "collapsed": false,
    "deletable": true,
    "editable": true
   },
   "outputs": [],
   "source": [
    "import os, sys\n",
    "import random\n",
    "import string\n",
    "\n",
    "def rename_folder_file(folder):\n",
    "    s = string.ascii_lowercase+string.digits\n",
    "    random_string = ''.join(random.sample(s,5))\n",
    "    \n",
    "    i = 1\n",
    "    for file in os.listdir(folder):\n",
    "        os.rename(folder+file, folder+random_string+\"_%d.jpg\" % i)\n",
    "        i+=1\n",
    "    print (\"move as temporary files\")\n",
    "    \n",
    "    \n",
    "    i = 1\n",
    "    for file in os.listdir(folder):\n",
    "        os.rename(folder+file, folder+\"%d.jpg\" % i)\n",
    "        i+=1\n",
    "    print (\"move as refined files\")\n",
    "\n",
    "        \n",
    "rename_folder_file(\"res/pos/pos2/\")"
   ]
  },
  {
   "cell_type": "markdown",
   "metadata": {},
   "source": [
    "### Draw Linear Time MSER"
   ]
  },
  {
   "cell_type": "code",
   "execution_count": 39,
   "metadata": {
    "collapsed": false
   },
   "outputs": [
    {
     "data": {
      "text/plain": [
       "[<matplotlib.lines.Line2D at 0x21e829a30f0>]"
      ]
     },
     "execution_count": 39,
     "metadata": {},
     "output_type": "execute_result"
    }
   ],
   "source": [
    "from matplotlib import pyplot\n",
    "import numpy as np\n",
    "\n",
    "with open(\"time.txt\", \"r\") as f:\n",
    "    row_list = [row[:-1].split(\" \") for row in f]\n",
    "    plist = [i[0] for i in row_list]\n",
    "    tlist = [i[1] for i in row_list]\n",
    "pixel_count = np.array(plist)\n",
    "time_spent = np.array(tlist)\n",
    "pyplot.plot(pixel_count, time_spent)"
   ]
  }
 ],
 "metadata": {
  "kernelspec": {
   "display_name": "Python 3",
   "language": "python",
   "name": "python3"
  },
  "language_info": {
   "codemirror_mode": {
    "name": "ipython",
    "version": 3
   },
   "file_extension": ".py",
   "mimetype": "text/x-python",
   "name": "python",
   "nbconvert_exporter": "python",
   "pygments_lexer": "ipython3",
   "version": "3.5.3"
  }
 },
 "nbformat": 4,
 "nbformat_minor": 2
}
